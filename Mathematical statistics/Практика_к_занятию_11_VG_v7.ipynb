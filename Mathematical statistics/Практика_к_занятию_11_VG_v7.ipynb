{
 "cells": [
  {
   "cell_type": "markdown",
   "metadata": {
    "id": "pDrecLU-4QjS"
   },
   "source": [
    "# Практика"
   ]
  },
  {
   "cell_type": "code",
   "execution_count": 1,
   "metadata": {},
   "outputs": [],
   "source": [
    "import pandas as pd\n",
    "import numpy as np\n",
    "import matplotlib.pyplot as plt\n",
    "import scipy.stats as sts\n",
    "import random"
   ]
  },
  {
   "cell_type": "markdown",
   "metadata": {
    "id": "gUvTNDlMaV-a"
   },
   "source": [
    "## Определение вероятности. События\n",
    "\n",
    "Требуется сгенерировать необходимые выборки и произвести по ним расчеты"
   ]
  },
  {
   "cell_type": "markdown",
   "metadata": {
    "id": "5V70InEBTgup"
   },
   "source": [
    "### Задача 1\n",
    "Брошено две монеты. Найти вероятность того, что монеты выпали разными сторонами"
   ]
  },
  {
   "cell_type": "code",
   "execution_count": 2,
   "metadata": {
    "id": "88Iw-SL3jYQV"
   },
   "outputs": [
    {
     "name": "stdout",
     "output_type": "stream",
     "text": [
      "        coin_1  coin_2\n",
      "0            0       1\n",
      "1            0       0\n",
      "2            1       1\n",
      "3            1       0\n",
      "4            0       1\n",
      "...        ...     ...\n",
      "999995       1       0\n",
      "999996       1       1\n",
      "999997       0       0\n",
      "999998       0       1\n",
      "999999       0       0\n",
      "\n",
      "[1000000 rows x 2 columns]\n",
      "Probability of different sides = 0.499897\n"
     ]
    }
   ],
   "source": [
    "n = 1000000\n",
    "bernoulli_rv1 = sts.bernoulli(0.5)\n",
    "bernoulli_rv2 = sts.bernoulli(0.5)\n",
    "b1 = bernoulli_rv1.rvs(n)\n",
    "b2 = bernoulli_rv2.rvs(n)\n",
    "df = pd.DataFrame (zip(b1, b2), columns = [\"coin_1\",\"coin_2\"])\n",
    "print (df)\n",
    "print ('Probability of different sides =', df [df.coin_1 != df.coin_2 ].shape[0]/n)"
   ]
  },
  {
   "cell_type": "markdown",
   "metadata": {
    "id": "t0XOMos2Tl0e"
   },
   "source": [
    "### Задача 2\n",
    "Брошено три монеты. Описать множество всех элементарных событий. Найти вероятности следующих событий:\n",
    "\n",
    "\n",
    "1.   A = {не выпало ни одного герба}\n",
    "2.   B = {выпало четное число гербов}\n",
    "3.   C = {на третьей монете выпал герб}\n"
   ]
  },
  {
   "cell_type": "markdown",
   "metadata": {},
   "source": [
    "##### Пусть герб - 0:"
   ]
  },
  {
   "cell_type": "code",
   "execution_count": 3,
   "metadata": {
    "id": "o7NjAE9uUo-L"
   },
   "outputs": [
    {
     "name": "stdout",
     "output_type": "stream",
     "text": [
      "        coin_1  coin_2  coin_3\n",
      "0            1       1       0\n",
      "1            0       0       0\n",
      "2            0       1       1\n",
      "3            1       0       1\n",
      "4            1       1       1\n",
      "...        ...     ...     ...\n",
      "999995       0       0       1\n",
      "999996       1       0       1\n",
      "999997       0       1       1\n",
      "999998       0       0       1\n",
      "999999       1       1       0\n",
      "\n",
      "[1000000 rows x 3 columns]\n",
      "не выпало ни одного герба 0.125026\n",
      "выпало четное число гербов 0.375075\n",
      "на третьей монете выпал герб 0.499631\n"
     ]
    }
   ],
   "source": [
    "n = 1000000\n",
    "bernoulli_rv1 = sts.bernoulli(0.5)\n",
    "bernoulli_rv2 = sts.bernoulli(0.5)\n",
    "bernoulli_rv3 = sts.bernoulli(0.5)\n",
    "b1 = bernoulli_rv1.rvs(n)\n",
    "b2 = bernoulli_rv2.rvs(n)\n",
    "b3 = bernoulli_rv3.rvs(n)\n",
    "\n",
    "df = pd.DataFrame (zip(b1, b2, b3), columns = [\"coin_1\",\"coin_2\",\"coin_3\" ])\n",
    "print (df)\n",
    "print ('не выпало ни одного герба', df [(df.coin_1 != 0) & (df.coin_2 != 0) & (df.coin_3 != 0)].shape[0]/n)\n",
    "print ('выпало четное число гербов', df [df.coin_1 + df.coin_2 + df.coin_3 == 1].shape[0]/n)\n",
    "print ('на третьей монете выпал герб', df [(df.coin_3 == 0)].shape[0]/n)"
   ]
  },
  {
   "cell_type": "markdown",
   "metadata": {},
   "source": [
    "Предлагается также решить задачи: \n",
    "\n",
    "### Задача 3\n",
    "Из двух претендентов E и L на ответственную должность три члена комиссии должны отобрать одного. Каждый член комиссии должен указать либо одного достойного, либо забраковать обоих. Претендент считается выбранным, если он был признана достойным хотя бы двумя членами комиссии.\n",
    "Найти вероятность событий:\n",
    "\n",
    "A = {рекомендован L}, B = {рекомендован E}\n"
   ]
  },
  {
   "cell_type": "markdown",
   "metadata": {},
   "source": [
    "0 - L и E отклонены\n",
    "\n",
    "1 - выбран L\n",
    "\n",
    "2 - выбран E"
   ]
  },
  {
   "cell_type": "code",
   "execution_count": 4,
   "metadata": {},
   "outputs": [
    {
     "name": "stdout",
     "output_type": "stream",
     "text": [
      "        decision1  decision2  decision3\n",
      "0               1          2          2\n",
      "1               1          1          2\n",
      "2               2          1          2\n",
      "3               0          1          1\n",
      "4               0          1          1\n",
      "...           ...        ...        ...\n",
      "999995          0          0          1\n",
      "999996          2          2          0\n",
      "999997          2          1          2\n",
      "999998          1          0          1\n",
      "999999          1          1          2\n",
      "\n",
      "[1000000 rows x 3 columns]\n",
      "рекомендован L:  0.258745\n",
      "рекомендован E:  0.259856\n"
     ]
    }
   ],
   "source": [
    "n = 1000000\n",
    "expert1 = []\n",
    "expert2 = []\n",
    "expert3 = []\n",
    "\n",
    "for x in range(n):\n",
    "    expert1.append (np.random.randint(0, 3))\n",
    "    expert2.append (np.random.randint(0, 3))\n",
    "    expert3.append (np.random.randint(0, 3))    \n",
    "df = pd.DataFrame(zip(expert1, expert2, expert3), columns = [\"decision1\",\"decision2\", \"decision3\"]) \n",
    "print (df)\n",
    "\n",
    "print ('рекомендован L: ', df [((df.decision1 == 1)&(df.decision2 == 1))|((df.decision1 == 1)&(df.decision3 == 1))|((df.decision3 == 1)&(df.decision2 == 1))].shape[0]/n)\n",
    "print ('рекомендован E: ', df [((df.decision1 == 2)&(df.decision2 == 2))|((df.decision1 == 2)&(df.decision3 == 2))|((df.decision3 == 2)&(df.decision2 == 2))].shape[0]/n)"
   ]
  },
  {
   "cell_type": "markdown",
   "metadata": {
    "id": "peM38mVfYa5B"
   },
   "source": [
    "### Задача 4\n",
    "Брошено две игральных кости. Описать множество элементарных событий. Найти вероятности событий:\n",
    "\n",
    "A = {вышло две \"шестерки\"}\n",
    "\n",
    "B = {сумма выпавших очков не меньше 11}\n",
    "\n",
    "C = {не выпала ни одна \"шестерка\"}"
   ]
  },
  {
   "cell_type": "code",
   "execution_count": 5,
   "metadata": {},
   "outputs": [
    {
     "name": "stdout",
     "output_type": "stream",
     "text": [
      "        dice1  dice2\n",
      "0           1      3\n",
      "1           1      2\n",
      "2           2      2\n",
      "3           4      2\n",
      "4           6      3\n",
      "...       ...    ...\n",
      "999995      4      5\n",
      "999996      1      3\n",
      "999997      2      6\n",
      "999998      6      5\n",
      "999999      5      1\n",
      "\n",
      "[1000000 rows x 2 columns]\n",
      "вышло две \"шестерки: \" 0.02768\n",
      "сумма выпавших очков не меньше 11:  0.083109\n",
      "не выпала ни одна \"шестерка: \" 0.69484\n"
     ]
    }
   ],
   "source": [
    "n = 1000000\n",
    "values1 = []\n",
    "values2 = []\n",
    "\n",
    "for x in range(n):\n",
    "    values1.append (np.random.randint(1, 7))\n",
    "    values2.append (np.random.randint(1, 7))\n",
    "         \n",
    "df = pd.DataFrame(zip(values1, values2 ),columns = [\"dice1\",\"dice2\"] ) \n",
    "print (df)\n",
    "\n",
    "print ('вышло две \"шестерки: \"', df [((df.dice1 == 6)&(df.dice2 == 6))].shape[0]/n)\n",
    "print ('сумма выпавших очков не меньше 11: ', df [((df.dice1 + df.dice2) >= 11)].shape[0]/n)\n",
    "print ('не выпала ни одна \"шестерка: \"', df [(df.dice1 != 6)&(df.dice2 != 6) ].shape[0]/n)"
   ]
  },
  {
   "cell_type": "markdown",
   "metadata": {
    "id": "f-Bi0p8haclB"
   },
   "source": [
    "## Вероятность суммы событий"
   ]
  },
  {
   "cell_type": "markdown",
   "metadata": {
    "id": "g7A7QlvGTnwZ"
   },
   "source": [
    "### Задача 5\n",
    "Брошены две игральные кости. Найти вероятность события D = {выпала хотя бы одна шестёрка}\n"
   ]
  },
  {
   "cell_type": "code",
   "execution_count": 6,
   "metadata": {
    "id": "vjtTJN-kUp9D"
   },
   "outputs": [
    {
     "name": "stdout",
     "output_type": "stream",
     "text": [
      "        dice1  dice2\n",
      "0           1      3\n",
      "1           3      1\n",
      "2           3      6\n",
      "3           1      6\n",
      "4           6      4\n",
      "...       ...    ...\n",
      "999995      4      4\n",
      "999996      4      3\n",
      "999997      4      5\n",
      "999998      4      4\n",
      "999999      3      1\n",
      "\n",
      "[1000000 rows x 2 columns]\n",
      "выпала хотя бы одна шестёрка:  0.305756\n"
     ]
    }
   ],
   "source": [
    "n = 1000000\n",
    "values1 = []\n",
    "values2 = []\n",
    "\n",
    "for x in range(n):\n",
    "    values1.append (np.random.randint(1, 7))\n",
    "    values2.append (np.random.randint(1, 7))\n",
    "         \n",
    "df = pd.DataFrame(zip(values1, values2 ),columns = [\"dice1\",\"dice2\"] ) \n",
    "print (df)\n",
    "\n",
    "print ('выпала хотя бы одна шестёрка: ', df [((df.dice1 == 6)&(df.dice2 != 6))|((df.dice1 != 6)&(df.dice2 == 6))|((df.dice1 == 6)&(df.dice2 == 6)) ].shape[0]/n)"
   ]
  },
  {
   "cell_type": "markdown",
   "metadata": {
    "id": "R1bYSzQQbC6I"
   },
   "source": [
    "Предлагается также решить задачи: \n",
    "\n",
    "### Задача 6\n",
    "В телефонном номере три последние цифры стерлись. Считая, что все возможные значения стершихся цифр равновероятны, найти вероятность событий:\n",
    "\n",
    "A = {Стерлись различные цифры},\n",
    "\n",
    "B = {Стерлись одинаковые цифры},\n",
    "\n",
    "C = {Среди стершихся цифр хотя бы две совпадают},\n",
    "\n",
    "D = {Среди стершихся цифр хотя бы две различны}\n"
   ]
  },
  {
   "cell_type": "code",
   "execution_count": 7,
   "metadata": {},
   "outputs": [
    {
     "name": "stdout",
     "output_type": "stream",
     "text": [
      "        digit1  digit2  digit3\n",
      "0            4       9       0\n",
      "1            2       8       2\n",
      "2            3       8       0\n",
      "3            6       0       1\n",
      "4            7       9       0\n",
      "...        ...     ...     ...\n",
      "999995       1       9       8\n",
      "999996       5       1       0\n",
      "999997       7       0       2\n",
      "999998       8       1       7\n",
      "999999       5       8       5\n",
      "\n",
      "[1000000 rows x 3 columns]\n",
      "Стерлись различные цифры:  0.719925\n",
      "Стерлись одинаковые цифры:  0.010027\n",
      "Среди стершихся цифр хотя бы две совпадают:  0.280075\n",
      "Среди стершихся цифр хотя бы две различны:  0.989973\n"
     ]
    }
   ],
   "source": [
    "n = 1000000\n",
    "digit1 = []\n",
    "digit2 = []\n",
    "digit3 = []\n",
    "\n",
    "for x in range(n):\n",
    "    digit1.append (np.random.randint(0, 10))\n",
    "    digit2.append (np.random.randint(0, 10))\n",
    "    digit3.append (np.random.randint(0, 10))    \n",
    "df = pd.DataFrame(zip(digit1, digit2, digit3), columns = [\"digit1\",\"digit2\", \"digit3\"]) \n",
    "print (df)\n",
    "\n",
    "print ('Стерлись различные цифры: ', df [(df.digit1 != df.digit2)&(df.digit1 != df.digit3)&(df.digit2 != df.digit3)].shape[0]/n)\n",
    "print ('Стерлись одинаковые цифры: ', df [(df.digit1 == df.digit2)&(df.digit1 == df.digit3)&(df.digit2 == df.digit3)].shape[0]/n)\n",
    "print ('Среди стершихся цифр хотя бы две совпадают: ', df [(df.digit1 == df.digit2)|(df.digit1 == df.digit3)|(df.digit2 == df.digit3)].shape[0]/n)\n",
    "print ('Среди стершихся цифр хотя бы две различны: ', df [(df.digit1 != df.digit2)|(df.digit1 != df.digit3)|(df.digit2 != df.digit3)].shape[0]/n)"
   ]
  },
  {
   "cell_type": "markdown",
   "metadata": {
    "id": "RnugkR8BalK_"
   },
   "source": [
    "## Случайные величины"
   ]
  },
  {
   "cell_type": "markdown",
   "metadata": {
    "id": "yLoZDZ17UVsp"
   },
   "source": [
    "### Задача 7\n",
    "В лотерее имеется 10 билетов, из которых один выигрышный. Размер выигрыша 10 ден. ед.; стоимость билета 1 ден ед. Найти закон распределения случайной величины X, равной чистому выигрышу участника лотереи, который вытаскивает билет первым."
   ]
  },
  {
   "cell_type": "code",
   "execution_count": 8,
   "metadata": {
    "id": "oNk432sKUqzT"
   },
   "outputs": [
    {
     "name": "stdout",
     "output_type": "stream",
     "text": [
      "   0\n",
      "0  0\n",
      "1  0\n",
      "2  0\n",
      "3  0\n",
      "4  0\n",
      "5  0\n",
      "6  0\n",
      "7  1\n",
      "8  0\n",
      "9  0\n",
      "Probability win:  0.1\n",
      "Probability lose:  0.9\n"
     ]
    },
    {
     "name": "stderr",
     "output_type": "stream",
     "text": [
      "C:\\Users\\Vitaly\\AppData\\Local\\Temp\\ipykernel_24616\\2495237348.py:3: DeprecationWarning: The *random* parameter to shuffle() has been deprecated\n",
      "since Python 3.9 and will be removed in a subsequent version.\n",
      "  random.shuffle(tickets, random.random)\n"
     ]
    }
   ],
   "source": [
    "tickets = [0,0,0,0,0,0,0,0,0,1]\n",
    "n = len(tickets)\n",
    "random.shuffle(tickets, random.random)\n",
    "df = pd.DataFrame(tickets)\n",
    "print (df)\n",
    "\n",
    "print ('Probability win: ', df [df[0] == 1].shape[0]/n)\n",
    "print ('Probability lose: ', df [df[0] == 0].shape[0]/n)"
   ]
  },
  {
   "cell_type": "markdown",
   "metadata": {
    "id": "U-NK9liSbpvb"
   },
   "source": [
    "Предлагается также решить задачу: \n",
    "\n",
    "### Задача 8\n",
    "Брошены две игральные кости. Найти закон распределения случайной величины $X$, равной сумме выпавших очков. Найти вероятности событий ${X <= 4}$, ${X > 4}$"
   ]
  },
  {
   "cell_type": "code",
   "execution_count": 9,
   "metadata": {},
   "outputs": [
    {
     "name": "stdout",
     "output_type": "stream",
     "text": [
      "         0\n",
      "0        6\n",
      "1       10\n",
      "2        5\n",
      "3       10\n",
      "4        9\n",
      "...     ..\n",
      "999995   9\n",
      "999996   7\n",
      "999997  12\n",
      "999998   8\n",
      "999999   9\n",
      "\n",
      "[1000000 rows x 1 columns]\n",
      "Probability 𝑋 <= 4:  0.166973\n",
      "Probability  𝑋 > 4:  0.833027\n"
     ]
    }
   ],
   "source": [
    "n = 1000000\n",
    "values = []\n",
    "\n",
    "for x in range(n):\n",
    "    values.append(np.random.randint(1, 7) + np.random.randint(1, 7))\n",
    "df = pd.DataFrame(values) \n",
    "\n",
    "print(df)\n",
    "print ('Probability 𝑋 <= 4: ', df [df[0] <= 4 ].shape[0]/n)\n",
    "print ('Probability  𝑋 > 4: ', df [df[0] > 4 ].shape[0]/n)"
   ]
  },
  {
   "cell_type": "markdown",
   "metadata": {
    "id": "shgW4D83awjK"
   },
   "source": [
    "## Условные вероятности"
   ]
  },
  {
   "cell_type": "markdown",
   "metadata": {
    "id": "Fbu1RFZwWZrk"
   },
   "source": [
    "### Задача 9\n",
    "Из колоды (36 карт) вынимают последовательно без возвращения две карты. Найти вероятность того, что первой картой была шестерка, а второй — семерка. Найти условную вероятность того же события при условии, что обе карты бубновой масти.\n"
   ]
  },
  {
   "cell_type": "code",
   "execution_count": null,
   "metadata": {
    "id": "037o56awW9-E"
   },
   "outputs": [],
   "source": []
  },
  {
   "cell_type": "markdown",
   "metadata": {
    "id": "hNVxtaz5c57b"
   },
   "source": [
    "Предлагается также решить задачу: \n",
    "\n",
    "### Задача 10\n",
    "Из урны, содержащей два белых и три черных шара, последовательно извлекают два шара; вынутые шары не возвращаются. Если первый шар оказался черным, то перед вторым извлечением в урну добавляют белый шар. В противном случае состав оставшихся шаров не меняют. Найти вероятности событий:\n",
    "\n",
    "$A$ = {извлечены два белых шара},\n",
    "\n",
    "$B$ = {извлечены два черных шара}\n",
    "\n",
    "Указание. Пусть событие $C_1$ = {первый шар белый}, событие $C_2$ = {второй шар белый}. Тогда $A = C_1C_2$, $B = \\overline C_1 \\overline C_2$ "
   ]
  },
  {
   "cell_type": "code",
   "execution_count": null,
   "metadata": {
    "id": "WSLnhk2sdBt_"
   },
   "outputs": [],
   "source": []
  }
 ],
 "metadata": {
  "colab": {
   "collapsed_sections": [],
   "name": "Практика к занятию 11.ipynb",
   "provenance": []
  },
  "kernelspec": {
   "display_name": "Python 3 (ipykernel)",
   "language": "python",
   "name": "python3"
  },
  "language_info": {
   "codemirror_mode": {
    "name": "ipython",
    "version": 3
   },
   "file_extension": ".py",
   "mimetype": "text/x-python",
   "name": "python",
   "nbconvert_exporter": "python",
   "pygments_lexer": "ipython3",
   "version": "3.9.12"
  }
 },
 "nbformat": 4,
 "nbformat_minor": 1
}
