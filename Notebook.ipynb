{
 "cells": [
  {
   "cell_type": "markdown",
   "id": "4145b31b",
   "metadata": {},
   "source": [
    "###### 1. Попробуйте используя встроенные инструменты Python проанализировать таблицу из файла \"Vacancy.csv\"\n",
    "###### 2. Попробуйте ответить на вопросы:\n",
    "###### - Сколько вакансий, которые вам нравятся?\n",
    "###### - За какие периоды эти вакансии?\n",
    "###### - Сколько вакансий с такими позициями, на которых вы работаете?\n",
    "###### - Сколько вакансий для аналитика данных?\n",
    "###### - Сколько вакансий для аналитика данных с использованием Python?\n",
    "\n",
    "###### В задании важно не использовать pandas и numpy, а встроенные инструменты python Counter, CSV, defaultdict, sorted"
   ]
  },
  {
   "cell_type": "code",
   "execution_count": 1,
   "id": "3e81f761",
   "metadata": {},
   "outputs": [],
   "source": [
    "import csv\n",
    "import sys\n",
    "from collections import Counter, defaultdict"
   ]
  },
  {
   "cell_type": "code",
   "execution_count": 2,
   "id": "66dfc463",
   "metadata": {},
   "outputs": [],
   "source": [
    "file_path = 'vacancy.csv'\n",
    "vacs = list(csv.DictReader(open(file_path, encoding='utf-8')))"
   ]
  },
  {
   "cell_type": "markdown",
   "id": "ed5cb668",
   "metadata": {},
   "source": [
    "###### - Кол-во вакансий, которые вам нравятся:"
   ]
  },
  {
   "cell_type": "code",
   "execution_count": 3,
   "id": "6c8632b9",
   "metadata": {},
   "outputs": [
    {
     "data": {
      "text/plain": [
       "37"
      ]
     },
     "execution_count": 3,
     "metadata": {},
     "output_type": "execute_result"
    }
   ],
   "source": [
    "a = Counter([x.get('vacid') for x in vacs if x.get('vactitle').lower().find('product owner') > -1])\n",
    "len(a)"
   ]
  },
  {
   "cell_type": "markdown",
   "id": "107be89e",
   "metadata": {},
   "source": [
    "###### - Периоды вакансий:"
   ]
  },
  {
   "cell_type": "code",
   "execution_count": 4,
   "id": "824759c6",
   "metadata": {},
   "outputs": [
    {
     "name": "stdout",
     "output_type": "stream",
     "text": [
      "2020-11-30 - 2021-03-17\n"
     ]
    }
   ],
   "source": [
    "print(min([x.get('vacdate') for x in vacs if x.get('vactitle').lower().find('product owner') > -1]), '-', max([x.get('vacdate') for x in vacs if x.get('vactitle').lower().find('product owner') > -1]))"
   ]
  },
  {
   "cell_type": "markdown",
   "id": "f1f3c353",
   "metadata": {},
   "source": [
    "###### - Кол-во вакансий с такими позициями, на которых вы работаете:"
   ]
  },
  {
   "cell_type": "code",
   "execution_count": 5,
   "id": "cce0295f",
   "metadata": {},
   "outputs": [
    {
     "data": {
      "text/plain": [
       "16"
      ]
     },
     "execution_count": 5,
     "metadata": {},
     "output_type": "execute_result"
    }
   ],
   "source": [
    "c = Counter([x.get('vacid') for x in vacs if x.get('vactitle').lower() == 'аналитик'])\n",
    "len(c)"
   ]
  },
  {
   "cell_type": "markdown",
   "id": "219153f9",
   "metadata": {},
   "source": [
    "###### - Кол-во вакансий для аналитика данных:"
   ]
  },
  {
   "cell_type": "code",
   "execution_count": 6,
   "id": "c052b921",
   "metadata": {},
   "outputs": [
    {
     "data": {
      "text/plain": [
       "21"
      ]
     },
     "execution_count": 6,
     "metadata": {},
     "output_type": "execute_result"
    }
   ],
   "source": [
    "d = Counter([x.get('vacid') for x in vacs if x.get('vactitle').lower().find('аналитик данных') > -1])\n",
    "len(d)"
   ]
  },
  {
   "cell_type": "markdown",
   "id": "be3b7e1c",
   "metadata": {},
   "source": [
    "###### - Кол-во вакансий для аналитика данных с использованием Python:"
   ]
  },
  {
   "cell_type": "code",
   "execution_count": 7,
   "id": "acb1ead8",
   "metadata": {},
   "outputs": [
    {
     "data": {
      "text/plain": [
       "8"
      ]
     },
     "execution_count": 7,
     "metadata": {},
     "output_type": "execute_result"
    }
   ],
   "source": [
    "e = Counter([x.get('vacid') for x in vacs if x.get('vactitle').lower().find('аналитик данных') > -1 and x.get('vacdescription').lower().find('python') > -1])\n",
    "len(e)"
   ]
  },
  {
   "cell_type": "code",
   "execution_count": null,
   "id": "108b8e28",
   "metadata": {},
   "outputs": [],
   "source": []
  }
 ],
 "metadata": {
  "kernelspec": {
   "display_name": "Python 3 (ipykernel)",
   "language": "python",
   "name": "python3"
  },
  "language_info": {
   "codemirror_mode": {
    "name": "ipython",
    "version": 3
   },
   "file_extension": ".py",
   "mimetype": "text/x-python",
   "name": "python",
   "nbconvert_exporter": "python",
   "pygments_lexer": "ipython3",
   "version": "3.9.12"
  }
 },
 "nbformat": 4,
 "nbformat_minor": 5
}
